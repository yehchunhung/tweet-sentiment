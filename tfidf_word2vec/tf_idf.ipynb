{
 "cells": [
  {
   "cell_type": "markdown",
   "metadata": {},
   "source": [
    "# Text Classification using nltk"
   ]
  },
  {
   "cell_type": "markdown",
   "metadata": {},
   "source": [
    "### In this notebook, we will use Twitter dataset to do binary classification on texts. Specifically, we train the text classification model by constructing TF-IDF matrix and training on simple models."
   ]
  },
  {
   "cell_type": "code",
   "execution_count": 3,
   "metadata": {},
   "outputs": [],
   "source": [
    "import pandas as pd\n",
    "import seaborn as sns\n",
    "from sklearn.feature_extraction.text import CountVectorizer, TfidfTransformer\n",
    "from sklearn.naive_bayes import MultinomialNB\n",
    "from sklearn.linear_model import LogisticRegression \n",
    "from sklearn.ensemble import GradientBoostingClassifier\n",
    "from sklearn.model_selection import train_test_split\n",
    "from sklearn.pipeline import Pipeline\n",
    "from sklearn.metrics import confusion_matrix, classification_report,accuracy_score\n",
    "from helpers_simple_ml import load_data_and_labels, create_submission_file, normalization\n",
    "\n",
    "sns.set()\n",
    "%matplotlib inline"
   ]
  },
  {
   "cell_type": "code",
   "execution_count": 4,
   "metadata": {},
   "outputs": [],
   "source": [
    "# load training and testing set\n",
    "positive_txt_path = 'data/train_pos_full.txt'\n",
    "negative_txt_path = 'data/train_neg_full.txt'\n",
    "test_txt_path = 'data/test_data.txt'\n",
    "train, label, test = load_data_and_labels(positive_txt_path, negative_txt_path, test_txt_path)"
   ]
  },
  {
   "cell_type": "code",
   "execution_count": 5,
   "metadata": {},
   "outputs": [
    {
     "data": {
      "text/html": [
       "<div>\n",
       "<style scoped>\n",
       "    .dataframe tbody tr th:only-of-type {\n",
       "        vertical-align: middle;\n",
       "    }\n",
       "\n",
       "    .dataframe tbody tr th {\n",
       "        vertical-align: top;\n",
       "    }\n",
       "\n",
       "    .dataframe thead th {\n",
       "        text-align: right;\n",
       "    }\n",
       "</style>\n",
       "<table border=\"1\" class=\"dataframe\">\n",
       "  <thead>\n",
       "    <tr style=\"text-align: right;\">\n",
       "      <th></th>\n",
       "      <th>tweet</th>\n",
       "      <th>label</th>\n",
       "    </tr>\n",
       "  </thead>\n",
       "  <tbody>\n",
       "    <tr>\n",
       "      <th>0</th>\n",
       "      <td>dunno justin read mention justin god knows hop...</td>\n",
       "      <td>1</td>\n",
       "    </tr>\n",
       "    <tr>\n",
       "      <th>1</th>\n",
       "      <td>logic dumb wo even crop name photo tsk</td>\n",
       "      <td>1</td>\n",
       "    </tr>\n",
       "    <tr>\n",
       "      <th>2</th>\n",
       "      <td>put casper box looved battle crakkbitch</td>\n",
       "      <td>1</td>\n",
       "    </tr>\n",
       "    <tr>\n",
       "      <th>3</th>\n",
       "      <td>thanks sir trip lil mama keep doin ya thang</td>\n",
       "      <td>1</td>\n",
       "    </tr>\n",
       "    <tr>\n",
       "      <th>4</th>\n",
       "      <td>visiting brother tmr bestest birthday gift eve...</td>\n",
       "      <td>1</td>\n",
       "    </tr>\n",
       "  </tbody>\n",
       "</table>\n",
       "</div>"
      ],
      "text/plain": [
       "                                               tweet  label\n",
       "0  dunno justin read mention justin god knows hop...      1\n",
       "1             logic dumb wo even crop name photo tsk      1\n",
       "2            put casper box looved battle crakkbitch      1\n",
       "3        thanks sir trip lil mama keep doin ya thang      1\n",
       "4  visiting brother tmr bestest birthday gift eve...      1"
      ]
     },
     "execution_count": 5,
     "metadata": {},
     "output_type": "execute_result"
    }
   ],
   "source": [
    "# transform training data into a dataframe\n",
    "tweet_df = pd.DataFrame.from_dict({'tweet': train, 'label': label})\n",
    "tweet_df.head()"
   ]
  },
  {
   "cell_type": "code",
   "execution_count": 6,
   "metadata": {},
   "outputs": [
    {
     "data": {
      "text/plain": [
       "-1    1250000\n",
       " 1    1250000\n",
       "Name: label, dtype: int64"
      ]
     },
     "execution_count": 6,
     "metadata": {},
     "output_type": "execute_result"
    }
   ],
   "source": [
    "# check the number of each label in training data\n",
    "tweet_df['label'].value_counts()"
   ]
  },
  {
   "cell_type": "code",
   "execution_count": 7,
   "metadata": {},
   "outputs": [
    {
     "data": {
      "text/html": [
       "<div>\n",
       "<style scoped>\n",
       "    .dataframe tbody tr th:only-of-type {\n",
       "        vertical-align: middle;\n",
       "    }\n",
       "\n",
       "    .dataframe tbody tr th {\n",
       "        vertical-align: top;\n",
       "    }\n",
       "\n",
       "    .dataframe thead th {\n",
       "        text-align: right;\n",
       "    }\n",
       "</style>\n",
       "<table border=\"1\" class=\"dataframe\">\n",
       "  <thead>\n",
       "    <tr style=\"text-align: right;\">\n",
       "      <th></th>\n",
       "      <th>tweet</th>\n",
       "      <th>label</th>\n",
       "    </tr>\n",
       "  </thead>\n",
       "  <tbody>\n",
       "    <tr>\n",
       "      <th>0</th>\n",
       "      <td>dunno justin read mention justin god know hope...</td>\n",
       "      <td>1</td>\n",
       "    </tr>\n",
       "    <tr>\n",
       "      <th>1</th>\n",
       "      <td>logic dumb wo even crop name photo tsk</td>\n",
       "      <td>1</td>\n",
       "    </tr>\n",
       "    <tr>\n",
       "      <th>2</th>\n",
       "      <td>put casper box looved battle crakkbitch</td>\n",
       "      <td>1</td>\n",
       "    </tr>\n",
       "    <tr>\n",
       "      <th>3</th>\n",
       "      <td>thank sir trip lil mama keep doin ya thang</td>\n",
       "      <td>1</td>\n",
       "    </tr>\n",
       "    <tr>\n",
       "      <th>4</th>\n",
       "      <td>visit brother tmr bestest birthday gift eveerrr</td>\n",
       "      <td>1</td>\n",
       "    </tr>\n",
       "  </tbody>\n",
       "</table>\n",
       "</div>"
      ],
      "text/plain": [
       "                                               tweet  label\n",
       "0  dunno justin read mention justin god know hope...      1\n",
       "1             logic dumb wo even crop name photo tsk      1\n",
       "2            put casper box looved battle crakkbitch      1\n",
       "3         thank sir trip lil mama keep doin ya thang      1\n",
       "4    visit brother tmr bestest birthday gift eveerrr      1"
      ]
     },
     "execution_count": 7,
     "metadata": {},
     "output_type": "execute_result"
    }
   ],
   "source": [
    "# apply normalization to each row\n",
    "tweet_df['tweet'] = (tweet_df['tweet'].str.split()).apply(normalization)\n",
    "\n",
    "tweet_df.head()"
   ]
  },
  {
   "cell_type": "code",
   "execution_count": 13,
   "metadata": {},
   "outputs": [],
   "source": [
    "# convert string tweets to weighted TF-IDF matrix and apply logistic regression as the classifier\n",
    "pipeline = Pipeline([\n",
    "    ('bow', CountVectorizer(analyzer='word', ngram_range=(1, 3), max_df=1.0)),\n",
    "    ('tfidf', TfidfTransformer()),\n",
    "    ('classifier', LogisticRegression(solver='saga', C=10))\n",
    "])"
   ]
  },
  {
   "cell_type": "code",
   "execution_count": 14,
   "metadata": {},
   "outputs": [
    {
     "name": "stdout",
     "output_type": "stream",
     "text": [
      "              precision    recall  f1-score   support\n",
      "\n",
      "          -1       0.83      0.83      0.83    249396\n",
      "           1       0.83      0.83      0.83    250604\n",
      "\n",
      "    accuracy                           0.83    500000\n",
      "   macro avg       0.83      0.83      0.83    500000\n",
      "weighted avg       0.83      0.83      0.83    500000\n",
      "\n",
      "[[207154  42242]\n",
      " [ 42959 207645]]\n",
      "0.829598\n"
     ]
    }
   ],
   "source": [
    "# split the original training dataset into training set and validation set\n",
    "tweet_train, tweet_val, label_train, label_val = train_test_split(tweet_df['tweet'], tweet_df['label'], test_size = 0.2)\n",
    "\n",
    "# train and predict\n",
    "pipeline.fit(tweet_train, label_train)\n",
    "predictions = pipeline.predict(tweet_val)\n",
    "\n",
    "# result\n",
    "print(classification_report(predictions, label_val))\n",
    "print(confusion_matrix(predictions,label_val))\n",
    "print(accuracy_score(predictions,label_val))"
   ]
  },
  {
   "cell_type": "code",
   "execution_count": 10,
   "metadata": {},
   "outputs": [],
   "source": [
    "pipeline = Pipeline([\n",
    "    ('bow', CountVectorizer(analyzer='word', ngram_range=(1, 3), max_df=1.0)),\n",
    "    ('tfidf', TfidfTransformer()),\n",
    "    ('classifier', GradientBoostingClassifier(n_estimators = 100, learning_rate = 0.87, max_depth = 5))\n",
    "])"
   ]
  },
  {
   "cell_type": "code",
   "execution_count": 11,
   "metadata": {},
   "outputs": [
    {
     "name": "stdout",
     "output_type": "stream",
     "text": [
      "              precision    recall  f1-score   support\n",
      "\n",
      "          -1       0.69      0.82      0.75    207610\n",
      "           1       0.86      0.73      0.79    292390\n",
      "\n",
      "    accuracy                           0.77    500000\n",
      "   macro avg       0.77      0.78      0.77    500000\n",
      "weighted avg       0.79      0.77      0.77    500000\n",
      "\n",
      "[[171256  36354]\n",
      " [ 77774 214616]]\n",
      "0.771744\n"
     ]
    }
   ],
   "source": [
    "# train and predict\n",
    "pipeline.fit(tweet_train, label_train)\n",
    "predictions = pipeline.predict(tweet_val)\n",
    "\n",
    "# result\n",
    "print(classification_report(predictions, label_val))\n",
    "print(confusion_matrix(predictions,label_val))\n",
    "print(accuracy_score(predictions,label_val))"
   ]
  },
  {
   "cell_type": "code",
   "execution_count": 11,
   "metadata": {},
   "outputs": [],
   "source": [
    "pipeline = Pipeline([\n",
    "    ('bow', CountVectorizer(analyzer='word', ngram_range=(1, 3), max_df=1.0)),\n",
    "    ('tfidf', TfidfTransformer()),\n",
    "    ('classifier', MultinomialNB(alpha = 0.1))\n",
    "])"
   ]
  },
  {
   "cell_type": "code",
   "execution_count": 12,
   "metadata": {},
   "outputs": [
    {
     "name": "stdout",
     "output_type": "stream",
     "text": [
      "              precision    recall  f1-score   support\n",
      "\n",
      "          -1       0.75      0.84      0.79    221968\n",
      "           1       0.86      0.77      0.82    278032\n",
      "\n",
      "    accuracy                           0.81    500000\n",
      "   macro avg       0.81      0.81      0.80    500000\n",
      "weighted avg       0.81      0.81      0.81    500000\n",
      "\n",
      "[[187320  34648]\n",
      " [ 62810 215222]]\n",
      "0.805084\n"
     ]
    }
   ],
   "source": [
    "# train and predict\n",
    "pipeline.fit(tweet_train, label_train)\n",
    "predictions = pipeline.predict(tweet_val)\n",
    "\n",
    "# result\n",
    "print(classification_report(predictions, label_val))\n",
    "print(confusion_matrix(predictions,label_val))\n",
    "print(accuracy_score(predictions,label_val))"
   ]
  },
  {
   "cell_type": "code",
   "execution_count": 12,
   "metadata": {},
   "outputs": [],
   "source": [
    "# generate prediction of testing data and save the file\n",
    "predictions = pipeline.predict(pd.Series(test))\n",
    "create_submission_file(predictions, \"TWN1_submission.csv\")"
   ]
  }
 ],
 "metadata": {
  "kernelspec": {
   "display_name": "Python 3",
   "language": "python",
   "name": "python3"
  },
  "language_info": {
   "codemirror_mode": {
    "name": "ipython",
    "version": 3
   },
   "file_extension": ".py",
   "mimetype": "text/x-python",
   "name": "python",
   "nbconvert_exporter": "python",
   "pygments_lexer": "ipython3",
   "version": "3.7.5"
  },
  "pycharm": {
   "stem_cell": {
    "cell_type": "raw",
    "metadata": {
     "collapsed": false
    },
    "source": []
   }
  }
 },
 "nbformat": 4,
 "nbformat_minor": 4
}
