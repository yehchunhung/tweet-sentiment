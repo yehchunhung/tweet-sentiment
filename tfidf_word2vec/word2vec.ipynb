{
 "cells": [
  {
   "cell_type": "markdown",
   "metadata": {},
   "source": [
    "# Text Classification"
   ]
  },
  {
   "cell_type": "markdown",
   "metadata": {},
   "source": [
    "### In this notebook, we will use Twitter dataset to do binary classification on texts. Specifically, we train the text classification model using **word2vec** and training on simple models."
   ]
  },
  {
   "cell_type": "code",
   "execution_count": 1,
   "metadata": {},
   "outputs": [],
   "source": [
    "import pandas as pd\n",
    "import numpy as np\n",
    "import spacy\n",
    "import os\n",
    "import gensim.models.keyedvectors as word2vec\n",
    "from nltk.stem.wordnet import WordNetLemmatizer\n",
    "from gensim.models import Word2Vec\n",
    "from sklearn.naive_bayes import MultinomialNB\n",
    "from sklearn.linear_model import LogisticRegression \n",
    "from sklearn.ensemble import GradientBoostingClassifier\n",
    "from sklearn.svm import SVC\n",
    "from sklearn.pipeline import Pipeline\n",
    "from sklearn.preprocessing import MinMaxScaler\n",
    "from sklearn.model_selection import train_test_split\n",
    "from sklearn.metrics import confusion_matrix, classification_report,accuracy_score\n",
    "from helpers_simple_ml import load_data_and_labels, create_submission_file"
   ]
  },
  {
   "cell_type": "code",
   "execution_count": 2,
   "metadata": {},
   "outputs": [],
   "source": [
    "# load training and testing set\n",
    "positive_txt_path = 'data/train_pos_full.txt'\n",
    "negative_txt_path = 'data/train_neg_full.txt'\n",
    "test_txt_path = 'data/test_data.txt'\n",
    "train, label, test = load_data_and_labels(positive_txt_path, negative_txt_path, test_txt_path)"
   ]
  },
  {
   "cell_type": "code",
   "execution_count": 3,
   "metadata": {},
   "outputs": [
    {
     "data": {
      "text/html": [
       "<div>\n",
       "<style scoped>\n",
       "    .dataframe tbody tr th:only-of-type {\n",
       "        vertical-align: middle;\n",
       "    }\n",
       "\n",
       "    .dataframe tbody tr th {\n",
       "        vertical-align: top;\n",
       "    }\n",
       "\n",
       "    .dataframe thead th {\n",
       "        text-align: right;\n",
       "    }\n",
       "</style>\n",
       "<table border=\"1\" class=\"dataframe\">\n",
       "  <thead>\n",
       "    <tr style=\"text-align: right;\">\n",
       "      <th></th>\n",
       "      <th>tweet</th>\n",
       "      <th>label</th>\n",
       "    </tr>\n",
       "  </thead>\n",
       "  <tbody>\n",
       "    <tr>\n",
       "      <th>0</th>\n",
       "      <td>dunno justin read mention justin god knows hop...</td>\n",
       "      <td>1</td>\n",
       "    </tr>\n",
       "    <tr>\n",
       "      <th>1</th>\n",
       "      <td>logic dumb wo even crop name photo tsk</td>\n",
       "      <td>1</td>\n",
       "    </tr>\n",
       "    <tr>\n",
       "      <th>2</th>\n",
       "      <td>put casper box looved battle crakkbitch</td>\n",
       "      <td>1</td>\n",
       "    </tr>\n",
       "    <tr>\n",
       "      <th>3</th>\n",
       "      <td>thanks sir trip lil mama keep doin ya thang</td>\n",
       "      <td>1</td>\n",
       "    </tr>\n",
       "    <tr>\n",
       "      <th>4</th>\n",
       "      <td>visiting brother tmr bestest birthday gift eve...</td>\n",
       "      <td>1</td>\n",
       "    </tr>\n",
       "  </tbody>\n",
       "</table>\n",
       "</div>"
      ],
      "text/plain": [
       "                                               tweet  label\n",
       "0  dunno justin read mention justin god knows hop...      1\n",
       "1             logic dumb wo even crop name photo tsk      1\n",
       "2            put casper box looved battle crakkbitch      1\n",
       "3        thanks sir trip lil mama keep doin ya thang      1\n",
       "4  visiting brother tmr bestest birthday gift eve...      1"
      ]
     },
     "execution_count": 3,
     "metadata": {},
     "output_type": "execute_result"
    }
   ],
   "source": [
    "# transform training data into a dataframe\n",
    "tweet_df = pd.DataFrame.from_dict({'tweet': train, 'label': label})\n",
    "tweet_df.head()"
   ]
  },
  {
   "cell_type": "code",
   "execution_count": 4,
   "metadata": {},
   "outputs": [
    {
     "data": {
      "text/plain": [
       "-1    1250000\n",
       " 1    1250000\n",
       "Name: label, dtype: int64"
      ]
     },
     "execution_count": 4,
     "metadata": {},
     "output_type": "execute_result"
    }
   ],
   "source": [
    "# check the number of each label in training data\n",
    "tweet_df['label'].value_counts()"
   ]
  },
  {
   "cell_type": "code",
   "execution_count": 5,
   "metadata": {},
   "outputs": [
    {
     "data": {
      "text/html": [
       "<div>\n",
       "<style scoped>\n",
       "    .dataframe tbody tr th:only-of-type {\n",
       "        vertical-align: middle;\n",
       "    }\n",
       "\n",
       "    .dataframe tbody tr th {\n",
       "        vertical-align: top;\n",
       "    }\n",
       "\n",
       "    .dataframe thead th {\n",
       "        text-align: right;\n",
       "    }\n",
       "</style>\n",
       "<table border=\"1\" class=\"dataframe\">\n",
       "  <thead>\n",
       "    <tr style=\"text-align: right;\">\n",
       "      <th></th>\n",
       "      <th>tweet</th>\n",
       "      <th>label</th>\n",
       "    </tr>\n",
       "  </thead>\n",
       "  <tbody>\n",
       "    <tr>\n",
       "      <th>0</th>\n",
       "      <td>[dunno, justin, read, mention, justin, god, kn...</td>\n",
       "      <td>1</td>\n",
       "    </tr>\n",
       "    <tr>\n",
       "      <th>1</th>\n",
       "      <td>[logic, dumb, wo, even, crop, name, photo, tsk]</td>\n",
       "      <td>1</td>\n",
       "    </tr>\n",
       "    <tr>\n",
       "      <th>2</th>\n",
       "      <td>[put, casper, box, looved, battle, crakkbitch]</td>\n",
       "      <td>1</td>\n",
       "    </tr>\n",
       "    <tr>\n",
       "      <th>3</th>\n",
       "      <td>[thank, sir, trip, lil, mama, keep, doin, ya, ...</td>\n",
       "      <td>1</td>\n",
       "    </tr>\n",
       "    <tr>\n",
       "      <th>4</th>\n",
       "      <td>[visit, brother, tmr, bestest, birthday, gift,...</td>\n",
       "      <td>1</td>\n",
       "    </tr>\n",
       "  </tbody>\n",
       "</table>\n",
       "</div>"
      ],
      "text/plain": [
       "                                               tweet  label\n",
       "0  [dunno, justin, read, mention, justin, god, kn...      1\n",
       "1    [logic, dumb, wo, even, crop, name, photo, tsk]      1\n",
       "2     [put, casper, box, looved, battle, crakkbitch]      1\n",
       "3  [thank, sir, trip, lil, mama, keep, doin, ya, ...      1\n",
       "4  [visit, brother, tmr, bestest, birthday, gift,...      1"
      ]
     },
     "execution_count": 5,
     "metadata": {},
     "output_type": "execute_result"
    }
   ],
   "source": [
    "# lexicon normalization\n",
    "def normalization(tweet_list):\n",
    "    lem = WordNetLemmatizer()\n",
    "    normalized_tweet = []\n",
    "    for word in tweet_list:\n",
    "        normalized_text = lem.lemmatize(word,'v')\n",
    "        normalized_tweet.append(normalized_text)\n",
    "    return normalized_tweet\n",
    "    \n",
    "# apply normalization to each row\n",
    "tweet_df['tweet'] = (tweet_df['tweet'].str.split()).apply(normalization)\n",
    "\n",
    "tweet_df.head()"
   ]
  },
  {
   "cell_type": "code",
   "execution_count": 6,
   "metadata": {},
   "outputs": [
    {
     "name": "stdout",
     "output_type": "stream",
     "text": [
      "CPU times: user 6.09 s, sys: 224 ms, total: 6.31 s\n",
      "Wall time: 6.38 s\n"
     ]
    }
   ],
   "source": [
    "%%time\n",
    "if os.path.exists('model_word2vec.bin'):\n",
    "    # load model\n",
    "    model = word2vec.KeyedVectors.load_word2vec_format(\"model_word2vec.bin\", binary = True)\n",
    "else:\n",
    "    # beware that this could take a day for training\n",
    "    # train embedding model by word2vec\n",
    "    print(\"\\n Training the word2vec model...\\n\")\n",
    "    model = Word2Vec(tweet_df.tweet.to_list(), size = 100, min_count = 1, sg = 1, workers = 5, iter = 100)\n",
    "    # save model\n",
    "    model.wv.save_word2vec_format('model_word2vec.bin', binary=True)"
   ]
  },
  {
   "cell_type": "code",
   "execution_count": 7,
   "metadata": {},
   "outputs": [
    {
     "data": {
      "text/html": [
       "<div>\n",
       "<style scoped>\n",
       "    .dataframe tbody tr th:only-of-type {\n",
       "        vertical-align: middle;\n",
       "    }\n",
       "\n",
       "    .dataframe tbody tr th {\n",
       "        vertical-align: top;\n",
       "    }\n",
       "\n",
       "    .dataframe thead th {\n",
       "        text-align: right;\n",
       "    }\n",
       "</style>\n",
       "<table border=\"1\" class=\"dataframe\">\n",
       "  <thead>\n",
       "    <tr style=\"text-align: right;\">\n",
       "      <th></th>\n",
       "      <th>tweet</th>\n",
       "      <th>label</th>\n",
       "    </tr>\n",
       "  </thead>\n",
       "  <tbody>\n",
       "    <tr>\n",
       "      <th>149</th>\n",
       "      <td>[]</td>\n",
       "      <td>1</td>\n",
       "    </tr>\n",
       "    <tr>\n",
       "      <th>365</th>\n",
       "      <td>[]</td>\n",
       "      <td>1</td>\n",
       "    </tr>\n",
       "    <tr>\n",
       "      <th>1609</th>\n",
       "      <td>[]</td>\n",
       "      <td>1</td>\n",
       "    </tr>\n",
       "    <tr>\n",
       "      <th>1981</th>\n",
       "      <td>[]</td>\n",
       "      <td>1</td>\n",
       "    </tr>\n",
       "    <tr>\n",
       "      <th>1982</th>\n",
       "      <td>[]</td>\n",
       "      <td>1</td>\n",
       "    </tr>\n",
       "    <tr>\n",
       "      <th>...</th>\n",
       "      <td>...</td>\n",
       "      <td>...</td>\n",
       "    </tr>\n",
       "    <tr>\n",
       "      <th>2497388</th>\n",
       "      <td>[]</td>\n",
       "      <td>-1</td>\n",
       "    </tr>\n",
       "    <tr>\n",
       "      <th>2497548</th>\n",
       "      <td>[]</td>\n",
       "      <td>-1</td>\n",
       "    </tr>\n",
       "    <tr>\n",
       "      <th>2497798</th>\n",
       "      <td>[]</td>\n",
       "      <td>-1</td>\n",
       "    </tr>\n",
       "    <tr>\n",
       "      <th>2498992</th>\n",
       "      <td>[]</td>\n",
       "      <td>-1</td>\n",
       "    </tr>\n",
       "    <tr>\n",
       "      <th>2499627</th>\n",
       "      <td>[]</td>\n",
       "      <td>-1</td>\n",
       "    </tr>\n",
       "  </tbody>\n",
       "</table>\n",
       "<p>7746 rows × 2 columns</p>\n",
       "</div>"
      ],
      "text/plain": [
       "        tweet  label\n",
       "149        []      1\n",
       "365        []      1\n",
       "1609       []      1\n",
       "1981       []      1\n",
       "1982       []      1\n",
       "...       ...    ...\n",
       "2497388    []     -1\n",
       "2497548    []     -1\n",
       "2497798    []     -1\n",
       "2498992    []     -1\n",
       "2499627    []     -1\n",
       "\n",
       "[7746 rows x 2 columns]"
      ]
     },
     "metadata": {},
     "output_type": "display_data"
    },
    {
     "data": {
      "text/html": [
       "<div>\n",
       "<style scoped>\n",
       "    .dataframe tbody tr th:only-of-type {\n",
       "        vertical-align: middle;\n",
       "    }\n",
       "\n",
       "    .dataframe tbody tr th {\n",
       "        vertical-align: top;\n",
       "    }\n",
       "\n",
       "    .dataframe thead th {\n",
       "        text-align: right;\n",
       "    }\n",
       "</style>\n",
       "<table border=\"1\" class=\"dataframe\">\n",
       "  <thead>\n",
       "    <tr style=\"text-align: right;\">\n",
       "      <th></th>\n",
       "      <th>tweet</th>\n",
       "      <th>label</th>\n",
       "    </tr>\n",
       "  </thead>\n",
       "  <tbody>\n",
       "  </tbody>\n",
       "</table>\n",
       "</div>"
      ],
      "text/plain": [
       "Empty DataFrame\n",
       "Columns: [tweet, label]\n",
       "Index: []"
      ]
     },
     "metadata": {},
     "output_type": "display_data"
    }
   ],
   "source": [
    "# check whether there is a tweet with length equal to 0\n",
    "display(tweet_df[(tweet_df.tweet.apply(len) == 0)])\n",
    "\n",
    "# remove them\n",
    "tweet_df_cleaned = tweet_df[~(tweet_df.tweet.apply(len) == 0)]\n",
    "\n",
    "# check again\n",
    "display(tweet_df_cleaned[(tweet_df_cleaned.tweet.apply(len) == 0)])"
   ]
  },
  {
   "cell_type": "code",
   "execution_count": 8,
   "metadata": {},
   "outputs": [
    {
     "name": "stderr",
     "output_type": "stream",
     "text": [
      "/Users/chunhungyeh/opt/anaconda3/envs/ada/lib/python3.7/site-packages/ipykernel_launcher.py:3: DeprecationWarning: Call to deprecated `wv` (Attribute will be removed in 4.0.0, use self instead).\n",
      "  This is separate from the ipykernel package so we can avoid doing imports until\n",
      "/Users/chunhungyeh/opt/anaconda3/envs/ada/lib/python3.7/site-packages/ipykernel_launcher.py:5: SettingWithCopyWarning: \n",
      "A value is trying to be set on a copy of a slice from a DataFrame.\n",
      "Try using .loc[row_indexer,col_indexer] = value instead\n",
      "\n",
      "See the caveats in the documentation: http://pandas.pydata.org/pandas-docs/stable/user_guide/indexing.html#returning-a-view-versus-a-copy\n",
      "  \"\"\"\n"
     ]
    },
    {
     "data": {
      "text/html": [
       "<div>\n",
       "<style scoped>\n",
       "    .dataframe tbody tr th:only-of-type {\n",
       "        vertical-align: middle;\n",
       "    }\n",
       "\n",
       "    .dataframe tbody tr th {\n",
       "        vertical-align: top;\n",
       "    }\n",
       "\n",
       "    .dataframe thead th {\n",
       "        text-align: right;\n",
       "    }\n",
       "</style>\n",
       "<table border=\"1\" class=\"dataframe\">\n",
       "  <thead>\n",
       "    <tr style=\"text-align: right;\">\n",
       "      <th></th>\n",
       "      <th>tweet</th>\n",
       "      <th>label</th>\n",
       "      <th>vector</th>\n",
       "    </tr>\n",
       "  </thead>\n",
       "  <tbody>\n",
       "    <tr>\n",
       "      <th>0</th>\n",
       "      <td>[dunno, justin, read, mention, justin, god, kn...</td>\n",
       "      <td>1</td>\n",
       "      <td>[-0.106876895, 0.12449849, -0.069821864, 0.114...</td>\n",
       "    </tr>\n",
       "    <tr>\n",
       "      <th>1</th>\n",
       "      <td>[logic, dumb, wo, even, crop, name, photo, tsk]</td>\n",
       "      <td>1</td>\n",
       "      <td>[0.05467985, -0.2727772, -0.012513335, 0.26039...</td>\n",
       "    </tr>\n",
       "    <tr>\n",
       "      <th>2</th>\n",
       "      <td>[put, casper, box, looved, battle, crakkbitch]</td>\n",
       "      <td>1</td>\n",
       "      <td>[-0.28428942, -0.07732746, -0.41212776, 0.0288...</td>\n",
       "    </tr>\n",
       "    <tr>\n",
       "      <th>3</th>\n",
       "      <td>[thank, sir, trip, lil, mama, keep, doin, ya, ...</td>\n",
       "      <td>1</td>\n",
       "      <td>[-0.3360731, -0.08575468, -0.3192463, 0.205857...</td>\n",
       "    </tr>\n",
       "    <tr>\n",
       "      <th>4</th>\n",
       "      <td>[visit, brother, tmr, bestest, birthday, gift,...</td>\n",
       "      <td>1</td>\n",
       "      <td>[-0.38955864, 0.08355774, -0.29862565, 0.42037...</td>\n",
       "    </tr>\n",
       "  </tbody>\n",
       "</table>\n",
       "</div>"
      ],
      "text/plain": [
       "                                               tweet  label  \\\n",
       "0  [dunno, justin, read, mention, justin, god, kn...      1   \n",
       "1    [logic, dumb, wo, even, crop, name, photo, tsk]      1   \n",
       "2     [put, casper, box, looved, battle, crakkbitch]      1   \n",
       "3  [thank, sir, trip, lil, mama, keep, doin, ya, ...      1   \n",
       "4  [visit, brother, tmr, bestest, birthday, gift,...      1   \n",
       "\n",
       "                                              vector  \n",
       "0  [-0.106876895, 0.12449849, -0.069821864, 0.114...  \n",
       "1  [0.05467985, -0.2727772, -0.012513335, 0.26039...  \n",
       "2  [-0.28428942, -0.07732746, -0.41212776, 0.0288...  \n",
       "3  [-0.3360731, -0.08575468, -0.3192463, 0.205857...  \n",
       "4  [-0.38955864, 0.08355774, -0.29862565, 0.42037...  "
      ]
     },
     "execution_count": 8,
     "metadata": {},
     "output_type": "execute_result"
    }
   ],
   "source": [
    "def tweet_vector(tweet):\n",
    "    \"\"\"Create document vectors by averaging word vectors.\"\"\"\n",
    "    return np.mean(model.wv.__getitem__(tweet), axis=0)\n",
    "\n",
    "tweet_df_cleaned['vector'] = tweet_df_cleaned.tweet.map(tweet_vector)\n",
    "tweet_df_cleaned.head()"
   ]
  },
  {
   "cell_type": "code",
   "execution_count": 9,
   "metadata": {},
   "outputs": [],
   "source": [
    "# split the original training dataset into training set and validation set\n",
    "tweet_train, tweet_val, label_train, label_val = train_test_split(tweet_df_cleaned['vector'], \\\n",
    "                                                                  tweet_df_cleaned['label'], \\\n",
    "                                                                  test_size = 0.2)"
   ]
  },
  {
   "cell_type": "code",
   "execution_count": 14,
   "metadata": {},
   "outputs": [
    {
     "name": "stdout",
     "output_type": "stream",
     "text": [
      "              precision    recall  f1-score   support\n",
      "\n",
      "          -1       0.73      0.76      0.74    238212\n",
      "           1       0.77      0.74      0.75    260239\n",
      "\n",
      "    accuracy                           0.75    498451\n",
      "   macro avg       0.75      0.75      0.75    498451\n",
      "weighted avg       0.75      0.75      0.75    498451\n",
      "\n",
      "[[181400  56812]\n",
      " [ 68074 192165]]\n",
      "0.7494518016816096\n"
     ]
    }
   ],
   "source": [
    "# logistic regression model\n",
    "pipeline = Pipeline([\n",
    "    ('scaler', MinMaxScaler()),\n",
    "    ('classifier', LogisticRegression(solver = 'saga', C = 10))\n",
    "])\n",
    "\n",
    "pipeline.fit(tweet_train.tolist(), label_train.values)\n",
    "predictions = pipeline.predict(tweet_val.tolist())\n",
    "\n",
    "# result\n",
    "print(classification_report(predictions, label_val))\n",
    "print(confusion_matrix(predictions,label_val))\n",
    "print(accuracy_score(predictions,label_val))"
   ]
  },
  {
   "cell_type": "code",
   "execution_count": 12,
   "metadata": {},
   "outputs": [
    {
     "name": "stdout",
     "output_type": "stream",
     "text": [
      "              precision    recall  f1-score   support\n",
      "\n",
      "          -1       0.77      0.80      0.79    238003\n",
      "           1       0.81      0.78      0.79    260448\n",
      "\n",
      "    accuracy                           0.79    498451\n",
      "   macro avg       0.79      0.79      0.79    498451\n",
      "weighted avg       0.79      0.79      0.79    498451\n",
      "\n",
      "[[191290  46713]\n",
      " [ 57958 202490]]\n",
      "0.7900074430585955\n"
     ]
    }
   ],
   "source": [
    "# gradient boosting classifier\n",
    "pipeline = Pipeline([\n",
    "    ('scaler', MinMaxScaler()),\n",
    "    ('classifier', GradientBoostingClassifier(n_estimators = 500, learning_rate = 0.7, max_depth = 5))\n",
    "])\n",
    "\n",
    "pipeline.fit(tweet_train.tolist(), label_train.values)\n",
    "predictions = pipeline.predict(tweet_val.tolist())\n",
    "\n",
    "# result\n",
    "print(classification_report(predictions, label_val))\n",
    "print(confusion_matrix(predictions,label_val))\n",
    "print(accuracy_score(predictions,label_val))"
   ]
  },
  {
   "cell_type": "code",
   "execution_count": 11,
   "metadata": {},
   "outputs": [
    {
     "name": "stdout",
     "output_type": "stream",
     "text": [
      "              precision    recall  f1-score   support\n",
      "\n",
      "          -1       0.54      0.68      0.60    197419\n",
      "           1       0.75      0.62      0.68    301032\n",
      "\n",
      "    accuracy                           0.65    498451\n",
      "   macro avg       0.65      0.65      0.64    498451\n",
      "weighted avg       0.67      0.65      0.65    498451\n",
      "\n",
      "[[134872  62547]\n",
      " [114376 186656]]\n",
      "0.645054378464483\n"
     ]
    }
   ],
   "source": [
    "# multinomial naive bayes\n",
    "pipeline = Pipeline([\n",
    "    ('scaler', MinMaxScaler()),\n",
    "    ('classifier', MultinomialNB(alpha = 0.1))\n",
    "])\n",
    "\n",
    "pipeline.fit(tweet_train.tolist(), label_train.values)\n",
    "predictions = pipeline.predict(tweet_val.tolist())\n",
    "\n",
    "# result\n",
    "print(classification_report(predictions, label_val))\n",
    "print(confusion_matrix(predictions, label_val))\n",
    "print(accuracy_score(predictions, label_val))"
   ]
  },
  {
   "cell_type": "code",
   "execution_count": null,
   "metadata": {},
   "outputs": [],
   "source": [
    "# transform testing data list to series\n",
    "test_series = pd.Series(test)\n",
    "\n",
    "# vectorize\n",
    "test_series = (test_series.str.split()).apply(normalization).apply(tweet_vector)\n",
    "\n",
    "# generate prediction of testing data and save the file\n",
    "predictions = gbc.predict(test_series.tolist())\n",
    "create_submission_file(predictions, \"TWN1_submission.csv\")"
   ]
  },
  {
   "cell_type": "code",
   "execution_count": null,
   "metadata": {},
   "outputs": [],
   "source": []
  }
 ],
 "metadata": {
  "kernelspec": {
   "display_name": "Python 3",
   "language": "python",
   "name": "python3"
  },
  "language_info": {
   "codemirror_mode": {
    "name": "ipython",
    "version": 3
   },
   "file_extension": ".py",
   "mimetype": "text/x-python",
   "name": "python",
   "nbconvert_exporter": "python",
   "pygments_lexer": "ipython3",
   "version": "3.7.5"
  }
 },
 "nbformat": 4,
 "nbformat_minor": 4
}
