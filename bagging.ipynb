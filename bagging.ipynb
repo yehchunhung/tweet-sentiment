{
 "cells": [
  {
   "cell_type": "code",
   "execution_count": null,
   "metadata": {},
   "outputs": [],
   "source": [
    "import os\n",
    "\n",
    "import numpy as np\n",
    "import pandas as pd"
   ]
  },
  {
   "cell_type": "code",
   "execution_count": null,
   "metadata": {},
   "outputs": [],
   "source": [
    "# folder containing all the predictions\n",
    "base_dir = 'bagging'"
   ]
  },
  {
   "cell_type": "code",
   "execution_count": null,
   "metadata": {},
   "outputs": [],
   "source": [
    "# model name\n",
    "bert = 'bert-base-uncased'\n",
    "roberta = 'roberta-base'\n",
    "xlnet = 'xlnet-base-cased'\n",
    "albert = 'albert-base-v2'"
   ]
  },
  {
   "cell_type": "code",
   "execution_count": null,
   "metadata": {},
   "outputs": [],
   "source": [
    "# specify the model you want to pick\n",
    "bert_picks = [1, 2, 3, 4, 5]\n",
    "roberta_picks = [1, 2, 3, 4, 5]\n",
    "xlnet_picks = [1, 2, 3]\n",
    "albert_picks = [1, 2]"
   ]
  },
  {
   "cell_type": "code",
   "execution_count": null,
   "metadata": {},
   "outputs": [],
   "source": [
    "# get all the predictions you pick\n",
    "predictions = []\n",
    "for i in bert_picks:\n",
    "    predictions.append(pd.read_csv(os.path.join(base_dir, f'{bert}-e{i:02}.csv')))\n",
    "for i in roberta_picks:\n",
    "    predictions.append(pd.read_csv(os.path.join(base_dir, f'{roberta}-e{i:02}.csv')))\n",
    "for i in xlnet_picks:\n",
    "    predictions.append(pd.read_csv(os.path.join(base_dir, f'{xlnet}-e{i:02}.csv')))\n",
    "for i in albert_picks:\n",
    "    predictions.append(pd.read_csv(os.path.join(base_dir, f'{albert}-e{i:02}.csv')))\n",
    "    \n",
    "total_length = len(bert_picks) + len(roberta_picks) + len(xlnet_picks)"
   ]
  },
  {
   "cell_type": "code",
   "execution_count": null,
   "metadata": {},
   "outputs": [],
   "source": [
    "# get sample submission\n",
    "submission = pd.read_csv('prediction/sample_submission.csv')\n",
    "num_preds = submission.shape[0]"
   ]
  },
  {
   "cell_type": "code",
   "execution_count": null,
   "metadata": {},
   "outputs": [],
   "source": [
    "# voting\n",
    "bagging_predictions = np.zeros(num_preds, dtype=int)\n",
    "\n",
    "for i in range(num_preds):\n",
    "    votes = {-1: 0, 1: 0}\n",
    "    for j in range(total_length):\n",
    "        votes[predictions[j].Prediction[i]] += 1\n",
    "    \n",
    "    bagging_predictions[i] = max(votes, key=votes.get)"
   ]
  },
  {
   "cell_type": "code",
   "execution_count": null,
   "metadata": {},
   "outputs": [],
   "source": [
    "# save bagging prediction\n",
    "submission.Prediction = bagging_predictions\n",
    "submission.to_csv('bagging.csv', index=False)"
   ]
  },
  {
   "cell_type": "code",
   "execution_count": null,
   "metadata": {},
   "outputs": [],
   "source": []
  }
 ],
 "metadata": {
  "kernelspec": {
   "display_name": "Python 3",
   "language": "python",
   "name": "python3"
  },
  "language_info": {
   "codemirror_mode": {
    "name": "ipython",
    "version": 3
   },
   "file_extension": ".py",
   "mimetype": "text/x-python",
   "name": "python",
   "nbconvert_exporter": "python",
   "pygments_lexer": "ipython3",
   "version": "3.7.3"
  }
 },
 "nbformat": 4,
 "nbformat_minor": 4
}
